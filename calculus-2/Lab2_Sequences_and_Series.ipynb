{
 "cells": [
  {
   "cell_type": "markdown",
   "metadata": {
    "format": "text/markdown"
   },
   "source": [
    "Lab 2: Sequences and Series\n",
    "==================================\n",
    "\n",
    "**Name:**\n",
    "\n",
    "**Due Date: July 24, 2020**\n",
    "\n",
    "# Instructions\n",
    "\n",
    "Follow through the Leading Examples section, and then complete the Your Turn section:\n",
    "- Limits of Sequences\n",
    "- Series Convergence and Approximation\n",
    "- Taylor Series vs Riemann Sums\n",
    "\n",
    "Answer the Follow-Up Questions after each section by typing your answers under each question.\n",
    "\n",
    "Type your name on the top of this lab.\n",
    "\n",
    "Save this file as: `MTH151-Lab2-YOURNAME.ipynb`\n",
    "\n",
    "Submit this file on Canvas through the file upload for Lab 2.\n",
    "\n",
    "# Leading Examples\n",
    "\n"
   ]
  },
  {
   "cell_type": "code",
   "execution_count": 1,
   "metadata": {
    "autoscroll": "auto",
    "collapsed": false,
    "options": {
     "caption": false,
     "complete": true,
     "display_data": true,
     "display_stream": true,
     "dpi": 200,
     "echo": true,
     "evaluate": false,
     "f_env": null,
     "f_pos": "htpb",
     "f_size": [
      6,
      4
     ],
     "f_spines": true,
     "fig": true,
     "include": true,
     "name": null,
     "option_string": "evaluate=False",
     "results": "verbatim",
     "term": false,
     "wrap": "output"
    }
   },
   "outputs": "",
   "source": [
    "import numpy as np\n",
    "from matplotlib import pyplot as plt"
   ]
  },
  {
   "cell_type": "markdown",
   "metadata": {
    "format": "text/markdown"
   },
   "source": [
    "## Sequences\n",
    "\n",
    "In this example, we'll do some basic numerical approximation of limits of sequences.\n",
    "\n",
    "Let's consider some sequence:\n",
    "\n",
    "$$\n",
    "  \\{a_n\\} = \\left\\{\\dfrac{(-1)^{n+1}}{n}\\right\\}_{n=1}^\\infty\n",
    "$$\n",
    "\n",
    "With sequences, we're commonly interested the limit of the sequence. We might notice that this limit will be a bit tricky to do by hand. We could set up an inequality, and apply the Squeeze Theorem in order to evaluate $\\displaystyle \\lim_{n\\to\\infty} \\frac{(-1)^{n+1}}{n}$, but there might be an easier way. Let's define a function in python using the explicit formula for $\\{a_n\\}$.\n",
    "\n"
   ]
  },
  {
   "cell_type": "code",
   "execution_count": 2,
   "metadata": {
    "autoscroll": "auto",
    "collapsed": false,
    "options": {
     "caption": false,
     "complete": true,
     "display_data": true,
     "display_stream": true,
     "dpi": 200,
     "echo": true,
     "evaluate": false,
     "f_env": null,
     "f_pos": "htpb",
     "f_size": [
      6,
      4
     ],
     "f_spines": true,
     "fig": true,
     "include": true,
     "name": null,
     "option_string": "evaluate=False",
     "results": "verbatim",
     "term": false,
     "wrap": "output"
    }
   },
   "outputs": "",
   "source": [
    "def SeqA(n):\n",
    "  return (-1.0)**(n+1.0)/n"
   ]
  },
  {
   "cell_type": "markdown",
   "metadata": {
    "format": "text/markdown"
   },
   "source": [
    "Let's try to get a good visualization of the sequence by plotting it. We'll use the `matplotlib` library like we've done normally, but we'll change things slightly: our default setup was plotting functions as continuous curves, but when we're visualizing sequences we should be thinking of disconnected points, only evaluated at integer inputs.\n",
    "\n",
    "The way that we'll do this is by adding in a \"plotting character\" into our code. We'll use the line `plt.plot(xList, yList, 'ro')` below, where `xList` can be replaced with the name of our list of inputs (in this case, our list of indeces) and `yList` can be replaced with the list of sequence terms (using our function `SeqA` defined above). The new addition, `'ro'` has two pieces: a color, and a point style. The color is marked by the first character (in this case, `r` is for red) and the point style is marked by the second character (in this case, 'o' is for a circular point).\n",
    "\n",
    "**Possible Color Codes:**\n",
    "- `b`: blue\n",
    "- `g`: green\n",
    "- `r`: red\n",
    "- `c`: cyan\n",
    "- `m`: magenta\n",
    "- `y`: yellow\n",
    "- `k`: black\n",
    "- `w`: white\n",
    "\n",
    "**Possible Point Styles:**\n",
    "- `o`: circle\n",
    "- `.`: point\n",
    "- `,`: pixel\n",
    "- others can be found at https://matplotlib.org/3.2.2/api/markers_api.html\n",
    "\n"
   ]
  },
  {
   "cell_type": "code",
   "execution_count": 3,
   "metadata": {
    "autoscroll": "auto",
    "collapsed": false,
    "options": {
     "caption": false,
     "complete": true,
     "display_data": true,
     "display_stream": true,
     "dpi": 200,
     "echo": true,
     "evaluate": false,
     "f_env": null,
     "f_pos": "htpb",
     "f_size": [
      6,
      4
     ],
     "f_spines": true,
     "fig": true,
     "include": true,
     "name": null,
     "option_string": "evaluate=False",
     "results": "verbatim",
     "term": false,
     "wrap": "output"
    }
   },
   "outputs": "",
   "source": [
    "termsA = np.arange(1,101) #Remember, we have to count a little past the end point\n",
    "plt.plot(termsA, SeqA(termsA), 'ro')\n",
    "plt.title(\"Sequence\")\n",
    "plt.show()"
   ]
  },
  {
   "cell_type": "markdown",
   "metadata": {
    "format": "text/markdown"
   },
   "source": [
    "We should notice a couple of things:\n",
    "1. This point size is pretty big: it's hard to see the detail.\n",
    "2. We are probably more interested in the \"tail\" of our sequence...this graph shows us the beginning terms.\n",
    "3. Even still, it looks like we already have some good evidence of this sequence converging to 0.\n",
    "\n",
    "Let's make this plot a little more informative: don't get me wrong, it's nice to see the beginning of this sequence, but we'll use this second plot to give us some good detail. We'll change the size of the points, consider only the \"tail\" (we'll look at terms from $n=500$ to $n=10000$), and even draw a horizontal line at what we guess the limit is.\n",
    "\n"
   ]
  },
  {
   "cell_type": "code",
   "execution_count": 4,
   "metadata": {
    "autoscroll": "auto",
    "collapsed": false,
    "options": {
     "caption": false,
     "complete": true,
     "display_data": true,
     "display_stream": true,
     "dpi": 200,
     "echo": true,
     "evaluate": false,
     "f_env": null,
     "f_pos": "htpb",
     "f_size": [
      6,
      4
     ],
     "f_spines": true,
     "fig": true,
     "include": true,
     "name": null,
     "option_string": "evaluate=False",
     "results": "verbatim",
     "term": false,
     "wrap": "output"
    }
   },
   "outputs": "",
   "source": [
    "tailA = np.arange(500,10000)\n",
    "plt.plot(tailA, SeqA(tailA), 'r,')\n",
    "plt.hlines(0, 500, 10000)\n",
    "plt.title(\"The Tail of the Sequence\")\n",
    "plt.show()"
   ]
  },
  {
   "cell_type": "markdown",
   "metadata": {
    "format": "text/markdown"
   },
   "source": [
    "This gives some very good visual evidence that the sequence $\\{a_n\\}$ converges to 0.\n",
    "\n",
    "## Series\n",
    "\n",
    "Let's consider the same sequence as above, but we'll turn it into an infinite series: we'll add all of the terms together.\n",
    "\n",
    "$$\n",
    "\\sum_{k=1}^\\infty \\dfrac{(-1)^{k+1}}{k}\n",
    "$$\n",
    "\n",
    "One of the most fundamental results that we have is that\n",
    "$$\n",
    "\\sum_{k=1}^\\infty \\dfrac{(-1)^{k+1}}{k} = \\lim_{n\\to\\infty} \\sum_{k=1}^n \\dfrac{(-1)^{k+1}}{k} = \\lim_{n\\to\\infty} S_n\n",
    "$$\n",
    "as long as this limit of the sequence of partial sums, $\\{S_n\\}$, actually exists.\n",
    "\n",
    "We can investigate that sequence in the same way as we did above: notice, though, that we need to work on building the sequence of partial sums. We've already noticed in our course that this is rarely easy. Instead of building an explicit formula to define the sequence of partial sums, we can get the terms by simply adding over and over again.\n",
    "\n",
    "Let's define a function that will do this for us:\n",
    "\n"
   ]
  },
  {
   "cell_type": "code",
   "execution_count": 5,
   "metadata": {
    "autoscroll": "auto",
    "collapsed": false,
    "options": {
     "caption": false,
     "complete": true,
     "display_data": true,
     "display_stream": true,
     "dpi": 200,
     "echo": true,
     "evaluate": false,
     "f_env": null,
     "f_pos": "htpb",
     "f_size": [
      6,
      4
     ],
     "f_spines": true,
     "fig": true,
     "include": true,
     "name": null,
     "option_string": "evaluate=False",
     "results": "verbatim",
     "term": false,
     "wrap": "output"
    }
   },
   "outputs": "",
   "source": [
    "def PartialSum(a, n, seq):\n",
    "  currentSum = 0\n",
    "  for k in range(a,n+1):\n",
    "      currentSum = currentSum + seq(k)\n",
    "  return currentSum\n",
    "\n",
    "def SeqPartialSum(a,n,seq):\n",
    "  currentSum = []\n",
    "  for k in range(a,n+1):\n",
    "    currentSum.append(PartialSum(a,k,seq))\n",
    "  return currentSum"
   ]
  },
  {
   "cell_type": "markdown",
   "metadata": {
    "format": "text/markdown"
   },
   "source": [
    "This function will take in 3 values:\n",
    "\n",
    "- `a` represents the first index in the sum ($k=0$ or $k=1$, etc.)\n",
    "- `n` represents the largest index for the partial sum ($S_{100}$)\n",
    "- `seq` represents the sequence of terms, defined as a function in python $\\left(a_k = \\frac{(-1)^{k+1}}{k}\\right)$.\n",
    "\n",
    "**Note: You can feel free to run this chunk of code, and then use these functions later on: you don't need to re-build them!**\n",
    "\n",
    "Now let's investigate the partial sum for the series we're looking at!\n",
    "\n"
   ]
  },
  {
   "cell_type": "code",
   "execution_count": 6,
   "metadata": {
    "autoscroll": "auto",
    "collapsed": false,
    "options": {
     "caption": false,
     "complete": true,
     "display_data": true,
     "display_stream": true,
     "dpi": 200,
     "echo": true,
     "evaluate": false,
     "f_env": null,
     "f_pos": "htpb",
     "f_size": [
      6,
      4
     ],
     "f_spines": true,
     "fig": true,
     "include": true,
     "name": null,
     "option_string": "evaluate=False",
     "results": "verbatim",
     "term": false,
     "wrap": "output"
    }
   },
   "outputs": "",
   "source": [
    "# Partial sum of the first 10 terms\n",
    "print(PartialSum(1,10,SeqA))\n",
    "# The first 10 terms in the sequence of partial sums\n",
    "print(SeqPartialSum(1,10,SeqA))"
   ]
  },
  {
   "cell_type": "markdown",
   "metadata": {
    "format": "text/markdown"
   },
   "source": [
    "So these two functions will be very helpful: we can see that the `PartialSum()` function gives us the actual sum of the first $n$ terms for some series, and the `SeqPartialSum()` function gives us a list of the first $n$ partial sums. This will be helpful for plotting!\n",
    "\n",
    "Let's plot the first 50 partial sums!\n"
   ]
  },
  {
   "cell_type": "code",
   "execution_count": 7,
   "metadata": {
    "autoscroll": "auto",
    "collapsed": false,
    "options": {
     "caption": false,
     "complete": true,
     "display_data": true,
     "display_stream": true,
     "dpi": 200,
     "echo": true,
     "evaluate": false,
     "f_env": null,
     "f_pos": "htpb",
     "f_size": [
      6,
      4
     ],
     "f_spines": true,
     "fig": true,
     "include": true,
     "name": null,
     "option_string": "evaluate=False",
     "results": "verbatim",
     "term": false,
     "wrap": "output"
    }
   },
   "outputs": "",
   "source": [
    "indecesA = np.arange(1,51) # Remember, np.arange() doesn't include the last value, so we go \"up to\" 51 terms.\n",
    "PartialsA = SeqPartialSum(1,50, SeqA) # This is the list of partial sums we'll plot\n",
    "\n",
    "plt.plot(indecesA, PartialsA, 'b.')\n",
    "plt.title(\"Sequence of Partial Sums\")\n",
    "plt.show()"
   ]
  },
  {
   "cell_type": "markdown",
   "metadata": {
    "format": "text/markdown"
   },
   "source": [
    "It looks like we've got some good visual evidence that this series converges: the sequence of partial sums seems to have a nice horizontal asymptote somewhere between 0.55 and 0.60. Just looking at this visual depiction, though, doesn't give us a very detailed idea of *what* the series converges to...something in between 0.55 and 0.6 isn't very helpful.\n",
    "\n",
    "Let's look at some of the bigger partial sums:\n"
   ]
  },
  {
   "cell_type": "code",
   "execution_count": 8,
   "metadata": {
    "autoscroll": "auto",
    "collapsed": false,
    "options": {
     "caption": false,
     "complete": true,
     "display_data": true,
     "display_stream": true,
     "dpi": 200,
     "echo": true,
     "evaluate": false,
     "f_env": null,
     "f_pos": "htpb",
     "f_size": [
      6,
      4
     ],
     "f_spines": true,
     "fig": true,
     "include": true,
     "name": null,
     "option_string": "evaluate=False",
     "results": "verbatim",
     "term": false,
     "wrap": "output"
    }
   },
   "outputs": "",
   "source": [
    "# Partial sum of the first 50 terms\n",
    "print(PartialSum(1,50,SeqA))"
   ]
  },
  {
   "cell_type": "markdown",
   "metadata": {
    "format": "text/markdown"
   },
   "source": [
    "This is the value of the last partial sum that we plotted above. Already, this is more detail than the graph gave us.\n",
    "\n",
    "Let's try looking at some more partial sums to get a really good approximation of the series:\n"
   ]
  },
  {
   "cell_type": "code",
   "execution_count": 9,
   "metadata": {
    "autoscroll": "auto",
    "collapsed": false,
    "options": {
     "caption": false,
     "complete": true,
     "display_data": true,
     "display_stream": true,
     "dpi": 200,
     "echo": true,
     "evaluate": false,
     "f_env": null,
     "f_pos": "htpb",
     "f_size": [
      6,
      4
     ],
     "f_spines": true,
     "fig": true,
     "include": true,
     "name": null,
     "option_string": "evaluate=False",
     "results": "verbatim",
     "term": false,
     "wrap": "output"
    }
   },
   "outputs": "",
   "source": [
    "# Partial sum of the first 10000 terms\n",
    "print(PartialSum(1,10000,SeqA))\n",
    "\n",
    "# Partial sum of the first 50000 terms\n",
    "print(PartialSum(1,50000,SeqA))\n",
    "\n",
    "# Partial sum of the first 100000 terms\n",
    "print(PartialSum(1,100000,SeqA))\n",
    "\n",
    "# Partial sum of the first 5000000 terms\n",
    "print(PartialSum(1,5000000,SeqA))"
   ]
  },
  {
   "cell_type": "markdown",
   "metadata": {
    "format": "text/markdown"
   },
   "source": [
    "Wow, this is incredible! We have at out fingertips the first **five million** terms of this series added up!\n",
    "\n",
    "Now, this is a series that we actually know a lot about: we have seen in this class that $\\displaystyle \\sum_{k=1}^\\infty \\dfrac{(-1)^{k+1}}{k} = \\ln 2$.\n",
    "\n",
    "Let's check how good our approximation is!\n",
    "\n"
   ]
  },
  {
   "cell_type": "code",
   "execution_count": 10,
   "metadata": {
    "autoscroll": "auto",
    "collapsed": false,
    "options": {
     "caption": false,
     "complete": true,
     "display_data": true,
     "display_stream": true,
     "dpi": 200,
     "echo": true,
     "evaluate": false,
     "f_env": null,
     "f_pos": "htpb",
     "f_size": [
      6,
      4
     ],
     "f_spines": true,
     "fig": true,
     "include": true,
     "name": null,
     "option_string": "evaluate=False",
     "results": "verbatim",
     "term": false,
     "wrap": "output"
    }
   },
   "outputs": "",
   "source": [
    "Approx = PartialSum(1,5000000,SeqA)\n",
    "Actual = np.log(2)\n",
    "PercError = abs(Actual - Approx)/Actual\n",
    "print(\"Approximation:\", Approx)\n",
    "print(\"Actual:\", Actual)\n",
    "print(\"Percenrage Error:\", PercError)"
   ]
  },
  {
   "cell_type": "markdown",
   "metadata": {
    "format": "text/markdown"
   },
   "source": [
    "This percentage error says that our approximation is \"off\" by approximately 0.00001443%. We can also see that our approximation is accurate up to 5 decimal points. Pretty good!\n",
    "\n",
    "# Your Turn\n",
    "\n",
    "We'll re-create this Leading Example, but with a sequence and series that are a little less familiar.\n",
    "\n",
    "## Limits of Sequences\n",
    "\n",
    "Let's consider the sequence $\\{b_n\\} = \\left\\{ \\dfrac{n\\sin(n)}{n^2+1} \\right\\}_{n=1}^\\infty$\n",
    "\n",
    "We'll be interested in the limit of the sequence, again. We could set up the Squeeze Theorem inequality, but that might be annoying. Let's just approximate it graphically.\n",
    "\n",
    "First, we'll define a function, the explicit formula for $\\{b_n\\}$.\n",
    "\n"
   ]
  },
  {
   "cell_type": "code",
   "execution_count": 11,
   "metadata": {
    "autoscroll": "auto",
    "collapsed": false,
    "options": {
     "caption": false,
     "complete": true,
     "display_data": true,
     "display_stream": true,
     "dpi": 200,
     "echo": true,
     "evaluate": false,
     "f_env": null,
     "f_pos": "htpb",
     "f_size": [
      6,
      4
     ],
     "f_spines": true,
     "fig": true,
     "include": true,
     "name": null,
     "option_string": "evaluate=False",
     "results": "verbatim",
     "term": false,
     "wrap": "output"
    }
   },
   "outputs": "",
   "source": [
    "# Use this chunk to define the function for the terms of the sequence."
   ]
  },
  {
   "cell_type": "markdown",
   "metadata": {
    "format": "text/markdown"
   },
   "source": [
    "Now we'll plot the first 100 terms:\n",
    "\n"
   ]
  },
  {
   "cell_type": "code",
   "execution_count": 12,
   "metadata": {
    "autoscroll": "auto",
    "collapsed": false,
    "options": {
     "caption": false,
     "complete": true,
     "display_data": true,
     "display_stream": true,
     "dpi": 200,
     "echo": true,
     "evaluate": false,
     "f_env": null,
     "f_pos": "htpb",
     "f_size": [
      6,
      4
     ],
     "f_spines": true,
     "fig": true,
     "include": true,
     "name": null,
     "option_string": "evaluate=False",
     "results": "verbatim",
     "term": false,
     "wrap": "output"
    }
   },
   "outputs": "",
   "source": [
    "# Use this chunk to plot the first 100 terms of the sequence."
   ]
  },
  {
   "cell_type": "markdown",
   "metadata": {
    "format": "text/markdown"
   },
   "source": [
    "And now we can plot the \"tail\" of our sequence. Include a horizontal line to represent your approximation of the limit of this sequence.\n",
    "\n"
   ]
  },
  {
   "cell_type": "code",
   "execution_count": 13,
   "metadata": {
    "autoscroll": "auto",
    "collapsed": false,
    "options": {
     "caption": false,
     "complete": true,
     "display_data": true,
     "display_stream": true,
     "dpi": 200,
     "echo": true,
     "evaluate": false,
     "f_env": null,
     "f_pos": "htpb",
     "f_size": [
      6,
      4
     ],
     "f_spines": true,
     "fig": true,
     "include": true,
     "name": null,
     "option_string": "evaluate=False",
     "results": "verbatim",
     "term": false,
     "wrap": "output"
    }
   },
   "outputs": "",
   "source": [
    "# Use this chunk of code to plot the tail of the sequence."
   ]
  },
  {
   "cell_type": "markdown",
   "metadata": {
    "format": "text/markdown"
   },
   "source": [
    "\n",
    "### Follow-Up Questions\n",
    "\n",
    "*Include your answers underneath each question.*\n",
    "\n",
    "--------\n",
    "\n",
    "1. *Is your approximation of the limit of this sequence useful information for our end goal: talking about the infinite series?*\n",
    "\n",
    "\n",
    "---------\n",
    "\n",
    "## Series Convergence and Approximation\n",
    "\n",
    "We'll investigate the series:\n",
    "\n",
    "$$\n",
    "  \\sum_{k=1}^\\infty \\dfrac{k \\sin(k)}{k^2+1}\n",
    "$$\n",
    "\n",
    "First, notice that it is difficult to see if this series converges or not. This is not technically an alternating series, since, while the $\\sin(k)$ will be bounded between -1 and 1, it doesn't alternate back and forth term by term.\n",
    "\n",
    "Setting up our series convergence tests is not easy in this case. So let's investigate the partial sums, as we did above.\n",
    "\n",
    "As a reminder, we can use the `PartialSum()` and `SeqPartialSum()` functions from above: we just need to make sure we run that block of code to define the functions.\n",
    "\n",
    "Let's plot the first 100 partial sums.\n",
    "\n"
   ]
  },
  {
   "cell_type": "code",
   "execution_count": 14,
   "metadata": {
    "autoscroll": "auto",
    "collapsed": false,
    "options": {
     "caption": false,
     "complete": true,
     "display_data": true,
     "display_stream": true,
     "dpi": 200,
     "echo": true,
     "evaluate": false,
     "f_env": null,
     "f_pos": "htpb",
     "f_size": [
      6,
      4
     ],
     "f_spines": true,
     "fig": true,
     "include": true,
     "name": null,
     "option_string": "evaluate=False",
     "results": "verbatim",
     "term": false,
     "wrap": "output"
    }
   },
   "outputs": "",
   "source": [
    "# Use this chunk to plot the first 100 partial sums"
   ]
  },
  {
   "cell_type": "markdown",
   "metadata": {
    "format": "text/markdown"
   },
   "source": [
    "\n",
    "Let's get some bigger partial sums. This should give us an idea of what's going on.\n",
    "\n"
   ]
  },
  {
   "cell_type": "code",
   "execution_count": 15,
   "metadata": {
    "autoscroll": "auto",
    "collapsed": false,
    "options": {
     "caption": false,
     "complete": true,
     "display_data": true,
     "display_stream": true,
     "dpi": 200,
     "echo": true,
     "evaluate": false,
     "f_env": null,
     "f_pos": "htpb",
     "f_size": [
      6,
      4
     ],
     "f_spines": true,
     "fig": true,
     "include": true,
     "name": null,
     "option_string": "evaluate=False",
     "results": "verbatim",
     "term": false,
     "wrap": "output"
    }
   },
   "outputs": "",
   "source": [
    "# Partial sum of the first 10000 terms\n",
    "\n",
    "# Partial sum of the first 50000 terms\n",
    "\n",
    "# Partial sum of the first 100000 terms\n",
    "\n",
    "# Partial sum of the first 5000000 terms"
   ]
  },
  {
   "cell_type": "markdown",
   "metadata": {
    "format": "text/markdown"
   },
   "source": [
    "### Follow-Up Questions\n",
    "\n",
    "*Include your answers underneath each question.*\n",
    "\n",
    "--------\n",
    "\n",
    "2. *Do you think this series converges or diverges? If it converges, what do you think it converges to? Is this approximation good?*\n",
    "\n",
    "\n",
    "3. *I claim that it's hard to set up some convergence tests. Pick one that seems reasonable, and explain why this series is hard to deal with in that test specifically.*\n",
    "\n",
    "\n",
    "---------\n",
    "\n",
    "## Taylor Series vs. Riemann Sums\n",
    "\n",
    "Ok, here's a fun excercise. We're going to approximate the following integral: $\\int_0^3 \\sin(x^2)\\;dx$. This is something we can't really evaluate using the Fundamental Theorem of Calculus nicely, because there is not elementary anti-derivative of $\\sin(x^2)$.\n",
    "\n",
    "There are many ways of approximating this integral, but let's do two: Riemann sums, and Taylor Series.\n",
    "\n",
    "### Riemann Sums\n",
    "\n",
    "Let's go back to Riemann sums. Let's use $n=15$. That means $\\Delta x = \\dfrac{3-0}{15} = 0.2$. Set up a partition from 0 to 3 using this value of $n$ and $\\Delta x$. Then, approximate the area under the function $f(x) = \\sin(x^2)$. (Remember, you'll need to define that function.)\n",
    "\n"
   ]
  },
  {
   "cell_type": "code",
   "execution_count": 16,
   "metadata": {
    "autoscroll": "auto",
    "collapsed": false,
    "options": {
     "caption": false,
     "complete": true,
     "display_data": true,
     "display_stream": true,
     "dpi": 200,
     "echo": true,
     "evaluate": false,
     "f_env": null,
     "f_pos": "htpb",
     "f_size": [
      6,
      4
     ],
     "f_spines": true,
     "fig": true,
     "include": true,
     "name": null,
     "option_string": "evaluate=False",
     "results": "verbatim",
     "term": false,
     "wrap": "output"
    }
   },
   "outputs": "",
   "source": [
    "# Use this chunk of code to define the function f(x)\n",
    "def f(x):\n",
    "  return np.sin(x**2)"
   ]
  },
  {
   "cell_type": "markdown",
   "metadata": {
    "format": "text/markdown"
   },
   "source": [
    "Now we can set up the Riemann sum.\n",
    "\n"
   ]
  },
  {
   "cell_type": "code",
   "execution_count": 17,
   "metadata": {
    "autoscroll": "auto",
    "collapsed": false,
    "options": {
     "caption": false,
     "complete": true,
     "display_data": true,
     "display_stream": true,
     "dpi": 200,
     "echo": true,
     "evaluate": false,
     "f_env": null,
     "f_pos": "htpb",
     "f_size": [
      6,
      4
     ],
     "f_spines": true,
     "fig": true,
     "include": true,
     "name": null,
     "option_string": "evaluate=False",
     "results": "verbatim",
     "term": false,
     "wrap": "output"
    }
   },
   "outputs": "",
   "source": [
    "# Use this chunk of code to set up and evaluate the Riemann sum with n=15\n",
    "n=15\n",
    "delta_x = 3.0/n\n",
    "partition = np.arange(0,3, delta_x)\n",
    "delta_x * sum(f(partition))"
   ]
  },
  {
   "cell_type": "markdown",
   "metadata": {
    "format": "text/markdown"
   },
   "source": [
    "Now we can compare this with a Taylor Series approximation of this area.\n",
    "\n",
    "### Taylor Series\n",
    "\n",
    "What we need to do first is find the Taylor Series for $\\sin(x^2)$, and integrate that:\n",
    "\n",
    "$$\n",
    "  \\sin(x) = \\sum_{k=0}^\\infty \\dfrac{(-1)^k x^{2k+1}}{(2k+1)!}\n",
    "$$\n",
    "\n",
    "$$\n",
    "  \\sin(x^2) = \\sum_{k=0}^\\infty \\frac{(-1)^k x^{4k+2}}{(2k+1)!}\n",
    "$$\n",
    "\n",
    "$$\n",
    "  \\int_0^3 \\sin(x^2)\\;dx = \\int_0^3 \\sum_{k=0}^\\infty \\frac{(-1)^k x^{4k+2}}{(2k+1)!}\\;dx = \\sum_{k=0}^\\infty \\frac{(-1)^k}{(2k+1)!}\\int_0^3 x^{4k+2}\\;dx\n",
    "$$\n",
    "\n",
    "So $\\displaystyle\\int_0^3 \\sin(x^2)\\;dx =\\left( \\sum_{k=0}^\\infty \\frac{(-1)^kx^{4k+3}}{(4k+3)(2k+1)!}\\right)\\bigg|_0^3 = \\sum_{k=0}^\\infty \\frac{(-1)^k3^{4k+3}}{(4k+3)(2k+1)!}$\n",
    "\n",
    "So we'll define the sequence of terms in this series. I'll do it for us, since it's pretty complicated.\n",
    "\n"
   ]
  },
  {
   "cell_type": "code",
   "execution_count": 18,
   "metadata": {
    "autoscroll": "auto",
    "collapsed": false,
    "options": {
     "caption": false,
     "complete": true,
     "display_data": true,
     "display_stream": true,
     "dpi": 200,
     "echo": true,
     "evaluate": false,
     "f_env": null,
     "f_pos": "htpb",
     "f_size": [
      6,
      4
     ],
     "f_spines": true,
     "fig": true,
     "include": true,
     "name": null,
     "option_string": "evaluate=False",
     "results": "verbatim",
     "term": false,
     "wrap": "output"
    }
   },
   "outputs": "",
   "source": [
    "def TaylorTerms(n):\n",
    "  return ((-1)**n * 3**(4*n+3)) / ((4*n+3) * np.math.factorial(2*n+1))"
   ]
  },
  {
   "cell_type": "markdown",
   "metadata": {
    "format": "text/markdown"
   },
   "source": [
    "\n",
    "Let's find the 15th partial sum, using our `PartialSum()` function from earlier!\n",
    "\n"
   ]
  },
  {
   "cell_type": "code",
   "execution_count": 19,
   "metadata": {
    "autoscroll": "auto",
    "collapsed": false,
    "options": {
     "caption": false,
     "complete": true,
     "display_data": true,
     "display_stream": true,
     "dpi": 200,
     "echo": true,
     "evaluate": false,
     "f_env": null,
     "f_pos": "htpb",
     "f_size": [
      6,
      4
     ],
     "f_spines": true,
     "fig": true,
     "include": true,
     "name": null,
     "option_string": "evaluate=False",
     "results": "verbatim",
     "term": false,
     "wrap": "output"
    }
   },
   "outputs": "",
   "source": [
    "# Use this chunk to find the sum of the first 15 terms."
   ]
  },
  {
   "cell_type": "markdown",
   "metadata": {
    "format": "text/markdown"
   },
   "source": [
    "Now the question: which approximation is better?\n",
    "\n",
    "Notice: the Taylor series is an *alternating* series. That means we can use the remainder theorem to tell us how accurate this approximation is!\n",
    "\n",
    "**Recall:** for an alternating series $\\sum a_k$, the remainder $R_n$ is bounded by $a_{n+1}$ using $|R_n| \\leq |a_{n+1}|$.\n",
    "\n",
    "Let's use this idea: we are using the partial sum $S_{15}$ to approximate this area $\\int_0^3 \\sin(x^2)\\;dx$. Let's find an error bound by considering the 16th term of the Taylor series.\n",
    "\n"
   ]
  },
  {
   "cell_type": "code",
   "execution_count": 20,
   "metadata": {
    "autoscroll": "auto",
    "collapsed": false,
    "options": {
     "caption": false,
     "complete": true,
     "display_data": true,
     "display_stream": true,
     "dpi": 200,
     "echo": true,
     "evaluate": false,
     "f_env": null,
     "f_pos": "htpb",
     "f_size": [
      6,
      4
     ],
     "f_spines": true,
     "fig": true,
     "include": true,
     "name": null,
     "option_string": "evaluate=False",
     "results": "verbatim",
     "term": false,
     "wrap": "output"
    }
   },
   "outputs": "",
   "source": [
    "# Use this chunk of code to find the 16th term."
   ]
  },
  {
   "cell_type": "markdown",
   "metadata": {
    "format": "text/markdown"
   },
   "source": [
    "### Follow-Up Questions\n",
    "\n",
    "*Include your answers underneath each question.*\n",
    "\n",
    "--------\n",
    "\n",
    "4. *Which approximation was better? How did you know?*\n",
    "\n",
    "\n",
    "5. *Why might it be nice to know that the Riemann Sum/Taylor Series gives a better approximation?*\n",
    "\n",
    "\n",
    "---------\n"
   ]
  }
 ],
 "metadata": {
  "kernel_info": {
   "name": "python3"
  },
  "language_info": {
   "name": "python"
  }
 },
 "nbformat": 4,
 "nbformat_minor": 0
}